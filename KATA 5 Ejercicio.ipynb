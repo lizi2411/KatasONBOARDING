{
 "cells": [
  {
   "cell_type": "markdown",
   "metadata": {},
   "source": [
    "## Distancia entre planetas"
   ]
  },
  {
   "cell_type": "code",
   "execution_count": 1,
   "metadata": {},
   "outputs": [
    {
     "name": "stdout",
     "output_type": "stream",
     "text": [
      "La distancia en KM  es:  628949330\n",
      "La distancia en Millas  es:  390577533.93\n"
     ]
    }
   ],
   "source": [
    "tierra = 149597870\n",
    "jupiter = 778547200\n",
    "distancia = tierra-jupiter\n",
    "print(\"La distancia en KM  es: \",abs(distancia))\n",
    "millas=distancia *0.621\n",
    "print(\"La distancia en Millas  es: \",abs(millas))"
   ]
  },
  {
   "cell_type": "code",
   "execution_count": 2,
   "metadata": {},
   "outputs": [
    {
     "name": "stdout",
     "output_type": "stream",
     "text": [
      "La distancia en km de estos planetas es: 44861\n",
      "La distancia en millas de estos planetas es: 27858.681\n"
     ]
    }
   ],
   "source": [
    "planeta1 = input(\"Dame la distancia del sol para el primer planeta en KM \")\n",
    "planeta2 = input(\"Dame la distancia del sol para el segundo planeta en KM \")\n",
    "\n",
    "p1 =int(planeta1)\n",
    "p2 = int(planeta2)\n",
    "distancia= p1 -p2\n",
    "print(\"La distancia en km de estos planetas es:\",abs(distancia))\n",
    "millas= distancia *0.621\n",
    "print(\"La distancia en millas de estos planetas es:\",abs(millas))"
   ]
  }
 ],
 "metadata": {
  "interpreter": {
   "hash": "d0b8016880d7d8c41ff97869d91875607329c7e651d454c61145551b264046fa"
  },
  "kernelspec": {
   "display_name": "Python 3.9.5 64-bit",
   "language": "python",
   "name": "python3"
  },
  "language_info": {
   "codemirror_mode": {
    "name": "ipython",
    "version": 3
   },
   "file_extension": ".py",
   "mimetype": "text/x-python",
   "name": "python",
   "nbconvert_exporter": "python",
   "pygments_lexer": "ipython3",
   "version": "3.9.5"
  },
  "orig_nbformat": 4
 },
 "nbformat": 4,
 "nbformat_minor": 2
}
