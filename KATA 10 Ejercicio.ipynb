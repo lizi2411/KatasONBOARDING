{
 "cells": [
  {
   "cell_type": "code",
   "execution_count": 1,
   "metadata": {},
   "outputs": [
    {
     "name": "stdout",
     "output_type": "stream",
     "text": [
      "Couldn't find the config.txt file!\n"
     ]
    }
   ],
   "source": [
    "try:\n",
    "    open('config.txt')\n",
    "except FileNotFoundError:\n",
    "    print(\"Couldn't find the config.txt file!\")\n",
    "\n"
   ]
  },
  {
   "cell_type": "code",
   "execution_count": 2,
   "metadata": {},
   "outputs": [
    {
     "name": "stdout",
     "output_type": "stream",
     "text": [
      "Couldn't find the config.txt file!\n"
     ]
    }
   ],
   "source": [
    "def main():\n",
    "    try:\n",
    "        configuration = open('config.txt')\n",
    "    except FileNotFoundError:\n",
    "        print(\"Couldn't find the config.txt file!\")\n",
    "\n",
    "\n",
    "if __name__ == '__main__':\n",
    "    main()"
   ]
  },
  {
   "cell_type": "code",
   "execution_count": 4,
   "metadata": {},
   "outputs": [],
   "source": [
    "def main():\n",
    "    try:\n",
    "        configuration = open('config.txt')\n",
    "    except FileNotFoundError:\n",
    "        print(\"Couldn't find the config.txt file!\")\n",
    "    except IsADirectoryError:\n",
    "        print(\"Found config.txt but it is a directory, couldn't read it\")"
   ]
  },
  {
   "cell_type": "code",
   "execution_count": 9,
   "metadata": {},
   "outputs": [
    {
     "ename": "NameError",
     "evalue": "name 'alert_navigation_system' is not defined",
     "output_type": "error",
     "traceback": [
      "\u001b[1;31m---------------------------------------------------------------------------\u001b[0m",
      "\u001b[1;31mRuntimeError\u001b[0m                              Traceback (most recent call last)",
      "Input \u001b[1;32mIn [9]\u001b[0m, in \u001b[0;36m<module>\u001b[1;34m\u001b[0m\n\u001b[0;32m     18\u001b[0m \u001b[39mtry\u001b[39;00m:\n\u001b[1;32m---> 19\u001b[0m     water_left(\u001b[39m5\u001b[39;49m, \u001b[39m100\u001b[39;49m, \u001b[39m2\u001b[39;49m)\n\u001b[0;32m     20\u001b[0m \u001b[39mexcept\u001b[39;00m \u001b[39mRuntimeError\u001b[39;00m \u001b[39mas\u001b[39;00m err:\n",
      "Input \u001b[1;32mIn [9]\u001b[0m, in \u001b[0;36mwater_left\u001b[1;34m(astronauts, water_left, days_left)\u001b[0m\n\u001b[0;32m     15\u001b[0m \u001b[39mif\u001b[39;00m total_water_left \u001b[39m<\u001b[39m \u001b[39m0\u001b[39m:\n\u001b[1;32m---> 16\u001b[0m     \u001b[39mraise\u001b[39;00m \u001b[39mRuntimeError\u001b[39;00m(\u001b[39mf\u001b[39m\u001b[39m\"\u001b[39m\u001b[39mThere is not enough water for \u001b[39m\u001b[39m{\u001b[39;00mastronauts\u001b[39m}\u001b[39;00m\u001b[39m astronauts after \u001b[39m\u001b[39m{\u001b[39;00mdays_left\u001b[39m}\u001b[39;00m\u001b[39m days!\u001b[39m\u001b[39m\"\u001b[39m)\n\u001b[0;32m     17\u001b[0m \u001b[39mreturn\u001b[39;00m \u001b[39mf\u001b[39m\u001b[39m\"\u001b[39m\u001b[39mTotal water left after \u001b[39m\u001b[39m{\u001b[39;00mdays_left\u001b[39m}\u001b[39;00m\u001b[39m days is: \u001b[39m\u001b[39m{\u001b[39;00mtotal_water_left\u001b[39m}\u001b[39;00m\u001b[39m liters\u001b[39m\u001b[39m\"\u001b[39m\n",
      "\u001b[1;31mRuntimeError\u001b[0m: There is not enough water for 5 astronauts after 2 days!",
      "\nDuring handling of the above exception, another exception occurred:\n",
      "\u001b[1;31mNameError\u001b[0m                                 Traceback (most recent call last)",
      "Input \u001b[1;32mIn [9]\u001b[0m, in \u001b[0;36m<module>\u001b[1;34m\u001b[0m\n\u001b[0;32m     19\u001b[0m     water_left(\u001b[39m5\u001b[39m, \u001b[39m100\u001b[39m, \u001b[39m2\u001b[39m)\n\u001b[0;32m     20\u001b[0m \u001b[39mexcept\u001b[39;00m \u001b[39mRuntimeError\u001b[39;00m \u001b[39mas\u001b[39;00m err:\n\u001b[1;32m---> 21\u001b[0m     alert_navigation_system(err)\n",
      "\u001b[1;31mNameError\u001b[0m: name 'alert_navigation_system' is not defined"
     ]
    }
   ],
   "source": [
    "def water_left(astronauts, water_left, days_left):\n",
    "    daily_usage = astronauts * 11\n",
    "    total_usage = daily_usage * days_left\n",
    "    total_water_left = water_left - total_usage\n",
    "    return f\"Total water left after {days_left} days is: {total_water_left} liters\"\n",
    "\n",
    "\n",
    "water_left(5, 100, 2)\n",
    "\n",
    "\n",
    "def water_left(astronauts, water_left, days_left):\n",
    "    daily_usage = astronauts * 11\n",
    "    total_usage = daily_usage * days_left\n",
    "    total_water_left = water_left - total_usage\n",
    "    if total_water_left < 0:\n",
    "        raise RuntimeError(f\"There is not enough water for {astronauts} astronauts after {days_left} days!\")\n",
    "    return f\"Total water left after {days_left} days is: {total_water_left} liters\"\n",
    "try:\n",
    "    water_left(5, 100, 2)\n",
    "except RuntimeError as err:\n",
    "    alert_navigation_system(err)"
   ]
  }
 ],
 "metadata": {
  "interpreter": {
   "hash": "d0b8016880d7d8c41ff97869d91875607329c7e651d454c61145551b264046fa"
  },
  "kernelspec": {
   "display_name": "Python 3.9.5 64-bit",
   "language": "python",
   "name": "python3"
  },
  "language_info": {
   "codemirror_mode": {
    "name": "ipython",
    "version": 3
   },
   "file_extension": ".py",
   "mimetype": "text/x-python",
   "name": "python",
   "nbconvert_exporter": "python",
   "pygments_lexer": "ipython3",
   "version": "3.9.5"
  },
  "orig_nbformat": 4
 },
 "nbformat": 4,
 "nbformat_minor": 2
}
