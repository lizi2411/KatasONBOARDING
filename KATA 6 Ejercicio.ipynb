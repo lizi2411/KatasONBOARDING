{
 "cells": [
  {
   "cell_type": "markdown",
   "metadata": {},
   "source": [
    "## Ejercicio 1"
   ]
  },
  {
   "cell_type": "code",
   "execution_count": 1,
   "metadata": {},
   "outputs": [
    {
     "name": "stdout",
     "output_type": "stream",
     "text": [
      "Existen  8 planetas en el sistema\n",
      "Ahora hay un nuevo planeta Pluton entonces los planetas son  ['Mercury', 'Venus', 'Earth', 'Mars', 'Jupiter', 'Saturn', 'Uranus', 'Neptune', 'Pluton']\n"
     ]
    }
   ],
   "source": [
    "planetas = ['Mercury', 'Venus', 'Earth', 'Mars', 'Jupiter', 'Saturn', 'Uranus', 'Neptune']\n",
    "\n",
    "print(\"Existen \",len(planetas),\"planetas en el sistema\")\n",
    "\n",
    "nuevo = input(\"Dame el nombre de un  planeta nuevo escribe el nombre con mayuscula al inicio\")\n",
    "planetas.append(nuevo)\n",
    "print(\"Ahora hay un nuevo planeta\",nuevo,\"entonces los planetas son \",planetas )"
   ]
  },
  {
   "cell_type": "markdown",
   "metadata": {},
   "source": [
    "## Ejercicio 2"
   ]
  },
  {
   "cell_type": "code",
   "execution_count": 2,
   "metadata": {},
   "outputs": [
    {
     "name": "stdout",
     "output_type": "stream",
     "text": [
      "Los planetas son  ['Mercury', 'Venus', 'Earth', 'Mars', 'Jupiter', 'Saturn', 'Uranus', 'Neptune']\n",
      "Los planetas mas cercanos que  Mars\n",
      "['Mercury', 'Venus', 'Earth']\n",
      "Los planetas mas lejanos  Mars\n",
      "['Jupiter', 'Saturn', 'Uranus', 'Neptune']\n"
     ]
    }
   ],
   "source": [
    "planetas = ['Mercury', 'Venus', 'Earth', 'Mars', 'Jupiter', 'Saturn', 'Uranus', 'Neptune']\n",
    "print(\"Los planetas son \",planetas )\n",
    "nuevo = input(\"Dame el nombre de un  planeta nuevo escribe el nombre con mayuscula al inicio\")\n",
    "planeta_l=planetas.index(nuevo)\n",
    "print(\"Los planetas mas cercanos que \",nuevo)\n",
    "print(planetas[0:planeta_l])\n",
    "print(\"Los planetas mas lejanos \",nuevo)\n",
    "print(planetas[planeta_l + 1:])"
   ]
  }
 ],
 "metadata": {
  "interpreter": {
   "hash": "d0b8016880d7d8c41ff97869d91875607329c7e651d454c61145551b264046fa"
  },
  "kernelspec": {
   "display_name": "Python 3.9.5 64-bit",
   "language": "python",
   "name": "python3"
  },
  "language_info": {
   "codemirror_mode": {
    "name": "ipython",
    "version": 3
   },
   "file_extension": ".py",
   "mimetype": "text/x-python",
   "name": "python",
   "nbconvert_exporter": "python",
   "pygments_lexer": "ipython3",
   "version": "3.9.5"
  },
  "orig_nbformat": 4
 },
 "nbformat": 4,
 "nbformat_minor": 2
}
