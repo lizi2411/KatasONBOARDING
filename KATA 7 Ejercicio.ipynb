{
 "cells": [
  {
   "cell_type": "markdown",
   "metadata": {},
   "source": [
    "## Ejercicio 1 "
   ]
  },
  {
   "cell_type": "code",
   "execution_count": 1,
   "metadata": {},
   "outputs": [
    {
     "name": "stdout",
     "output_type": "stream",
     "text": [
      "Este es un planeta marte\n",
      "Este es un planeta tierra\n",
      "Este es un planeta venus\n"
     ]
    }
   ],
   "source": [
    "planeta_n=''\n",
    "planetas=[]\n",
    "while planeta_n != 'done':\n",
    "    if planeta_n:\n",
    "        planetas.append(planeta_n)\n",
    "    planeta_n= input(\"Dame el nombre de un planeta\")\n",
    "\n",
    "for planeta in planetas:\n",
    "    print(\"Este es un planeta\",planeta)"
   ]
  }
 ],
 "metadata": {
  "interpreter": {
   "hash": "d0b8016880d7d8c41ff97869d91875607329c7e651d454c61145551b264046fa"
  },
  "kernelspec": {
   "display_name": "Python 3.9.5 64-bit",
   "language": "python",
   "name": "python3"
  },
  "language_info": {
   "codemirror_mode": {
    "name": "ipython",
    "version": 3
   },
   "file_extension": ".py",
   "mimetype": "text/x-python",
   "name": "python",
   "nbconvert_exporter": "python",
   "pygments_lexer": "ipython3",
   "version": "3.9.5"
  },
  "orig_nbformat": 4
 },
 "nbformat": 4,
 "nbformat_minor": 2
}
