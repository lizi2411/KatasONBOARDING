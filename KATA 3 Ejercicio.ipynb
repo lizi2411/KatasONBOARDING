{
 "cells": [
  {
   "cell_type": "markdown",
   "metadata": {},
   "source": [
    "## Primer ejercicio \n"
   ]
  },
  {
   "cell_type": "code",
   "execution_count": 1,
   "metadata": {},
   "outputs": [
    {
     "name": "stdout",
     "output_type": "stream",
     "text": [
      "¡Alerta preparense ! ¡Un asteroide se acerca a velocidades peligrosas!\n"
     ]
    }
   ],
   "source": [
    "asteroidev = 49\n",
    "if asteroidev > 25:\n",
    "    print('¡Alerta preparense ! ¡Un asteroide se acerca a velocidades peligrosas!')\n",
    "else:\n",
    "    print('¡Sigue con tu día no hay peligro!')"
   ]
  },
  {
   "cell_type": "markdown",
   "metadata": {},
   "source": [
    "## Segundo ejercicio "
   ]
  },
  {
   "cell_type": "code",
   "execution_count": 3,
   "metadata": {},
   "outputs": [
    {
     "name": "stdout",
     "output_type": "stream",
     "text": [
      "¡No se observa ningun rayo de luz!\n"
     ]
    }
   ],
   "source": [
    "asteroidev = 19\n",
    "if asteroidev > 20:\n",
    "    print('¡Se observa un rayo de luz en el cielo!')\n",
    "elif asteroidev == 20:\n",
    "    print('Se observa un rayo de luz en el cielo')\n",
    "else:\n",
    "    print('¡No se observa ningun rayo de luz!')"
   ]
  },
  {
   "cell_type": "markdown",
   "metadata": {},
   "source": [
    "## Tercer ejercicio"
   ]
  },
  {
   "cell_type": "code",
   "execution_count": 4,
   "metadata": {},
   "outputs": [
    {
     "name": "stdout",
     "output_type": "stream",
     "text": [
      "Se observa un rayo de luz en el cielo\n"
     ]
    }
   ],
   "source": [
    "v_asteroide = 25\n",
    "t_asteroide = 40\n",
    "if v_asteroide > 25 and t_asteroide > 25:\n",
    "    print('¡Alerta preparense ! ¡Un asteroide se acerca a velocidades peligrosas!')\n",
    "elif v_asteroide >= 20:\n",
    "    print('Se observa un rayo de luz en el cielo')\n",
    "elif t_asteroide < 25:\n",
    "    print('¡No se observa ningun rayo de luz!')\n",
    "else:\n",
    "    print('¡No se observa ningun rayo de luz!')"
   ]
  }
 ],
 "metadata": {
  "interpreter": {
   "hash": "d0b8016880d7d8c41ff97869d91875607329c7e651d454c61145551b264046fa"
  },
  "kernelspec": {
   "display_name": "Python 3.9.5 64-bit",
   "language": "python",
   "name": "python3"
  },
  "language_info": {
   "codemirror_mode": {
    "name": "ipython",
    "version": 3
   },
   "file_extension": ".py",
   "mimetype": "text/x-python",
   "name": "python",
   "nbconvert_exporter": "python",
   "pygments_lexer": "ipython3",
   "version": "3.9.5"
  },
  "orig_nbformat": 4
 },
 "nbformat": 4,
 "nbformat_minor": 2
}
